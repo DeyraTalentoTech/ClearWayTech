{
  "nbformat": 4,
  "nbformat_minor": 0,
  "metadata": {
    "colab": {
      "provenance": [],
      "authorship_tag": "ABX9TyPIUAWFSopqJs5u6J0FAwDh",
      "include_colab_link": true
    },
    "kernelspec": {
      "name": "python3",
      "display_name": "Python 3"
    },
    "language_info": {
      "name": "python"
    }
  },
  "cells": [
    {
      "cell_type": "markdown",
      "metadata": {
        "id": "view-in-github",
        "colab_type": "text"
      },
      "source": [
        "<a href=\"https://colab.research.google.com/github/DeyraTalentoTech/ClearWayTech/blob/main/Analitics_Estados_vias.ipynb\" target=\"_parent\"><img src=\"https://colab.research.google.com/assets/colab-badge.svg\" alt=\"Open In Colab\"/></a>"
      ]
    },
    {
      "cell_type": "code",
      "execution_count": null,
      "metadata": {
        "id": "XOmfLviml2lO"
      },
      "outputs": [],
      "source": []
    },
    {
      "cell_type": "markdown",
      "source": [
        "https://github.com/DeyraTalentoTech/ClearWayTech/blob/main/Secci_n_de_Usos_del_Portal_de_Datos_Abiertos_del_Estado_Colombiano.csv"
      ],
      "metadata": {
        "id": "KfSJAOEZm8uG"
      }
    },
    {
      "cell_type": "code",
      "source": [
        "import pandas as pd\n",
        "df = pd.read_csv(\"https://raw.githubusercontent.com/DeyraTalentoTech/ClearWayTech/main/Secci_n_de_Usos_del_Portal_de_Datos_Abiertos_del_Estado_Colombiano.csv\")\n",
        "#Exploración inicial\n",
        "print(df.describe())"
      ],
      "metadata": {
        "colab": {
          "base_uri": "https://localhost:8080/"
        },
        "id": "hVPDzlv-nDRa",
        "outputId": "8388cac5-9ad8-42d9-85c4-40a7d8391ede"
      },
      "execution_count": null,
      "outputs": [
        {
          "output_type": "stream",
          "name": "stdout",
          "text": [
            "         Votación  Conjunto de Datos 2  Conjunto de Datos 3  \\\n",
            "count  298.000000                  0.0                  0.0   \n",
            "mean    22.885906                  NaN                  NaN   \n",
            "std     40.614726                  NaN                  NaN   \n",
            "min      0.000000                  NaN                  NaN   \n",
            "25%      0.000000                  NaN                  NaN   \n",
            "50%      0.000000                  NaN                  NaN   \n",
            "75%     20.000000                  NaN                  NaN   \n",
            "max    100.000000                  NaN                  NaN   \n",
            "\n",
            "       Conjunto de Datos 4  Conjunto de Datos 5  Otro Conjunto de Datos 2  \\\n",
            "count                  0.0                  0.0                       0.0   \n",
            "mean                   NaN                  NaN                       NaN   \n",
            "std                    NaN                  NaN                       NaN   \n",
            "min                    NaN                  NaN                       NaN   \n",
            "25%                    NaN                  NaN                       NaN   \n",
            "50%                    NaN                  NaN                       NaN   \n",
            "75%                    NaN                  NaN                       NaN   \n",
            "max                    NaN                  NaN                       NaN   \n",
            "\n",
            "       Otro Conjunto de Datos 3  Otro Conjunto de Datos 4  \\\n",
            "count                       0.0                       0.0   \n",
            "mean                        NaN                       NaN   \n",
            "std                         NaN                       NaN   \n",
            "min                         NaN                       NaN   \n",
            "25%                         NaN                       NaN   \n",
            "50%                         NaN                       NaN   \n",
            "75%                         NaN                       NaN   \n",
            "max                         NaN                       NaN   \n",
            "\n",
            "       Otro Conjunto de Datos 5  Metodología  Resultados Aprendizaje Datos  \\\n",
            "count                       0.0          0.0                           0.0   \n",
            "mean                        NaN          NaN                           NaN   \n",
            "std                         NaN          NaN                           NaN   \n",
            "min                         NaN          NaN                           NaN   \n",
            "25%                         NaN          NaN                           NaN   \n",
            "50%                         NaN          NaN                           NaN   \n",
            "75%                         NaN          NaN                           NaN   \n",
            "max                         NaN          NaN                           NaN   \n",
            "\n",
            "           idPost  Dane Departamento  Dane Municipio  \n",
            "count  290.000000         290.000000      289.000000  \n",
            "mean   445.513793          24.927586       24.354152  \n",
            "std    223.575835          23.905051       23.764791  \n",
            "min    142.000000           5.000000        5.001000  \n",
            "25%    215.250000          11.000000       11.001000  \n",
            "50%    366.500000          11.000000       11.001000  \n",
            "75%    670.500000          26.500000       25.473000  \n",
            "max    754.000000          95.000000       95.001000  \n"
          ]
        }
      ]
    }
  ]
}